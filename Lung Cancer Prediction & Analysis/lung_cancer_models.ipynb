{
 "cells": [
  {
   "cell_type": "code",
   "execution_count": 466,
   "metadata": {},
   "outputs": [],
   "source": [
    "import pandas as pd \n",
    "import numpy as np\n",
    "import seaborn as sns\n",
    "import matplotlib.pyplot as plt\n",
    "\n",
    "from sklearn.model_selection import train_test_split\n",
    "from sklearn.preprocessing import StandardScaler, LabelEncoder, MinMaxScaler\n",
    "from sklearn.ensemble import RandomForestClassifier\n",
    "from sklearn.linear_model import LogisticRegression\n",
    "from sklearn.svm import SVC\n",
    "from xgboost import XGBClassifier\n",
    "import joblib\n",
    "from sklearn.metrics import accuracy_score, classification_report, confusion_matrix, roc_auc_score, roc_curve, auc\n"
   ]
  },
  {
   "cell_type": "code",
   "execution_count": 467,
   "metadata": {},
   "outputs": [],
   "source": [
    "# Load dataset\n",
    "df = pd.read_csv('../Assets/Data/Lung Cancer Dataset.csv')\n",
    "\n"
   ]
  },
  {
   "cell_type": "code",
   "execution_count": 468,
   "metadata": {},
   "outputs": [
    {
     "name": "stdout",
     "output_type": "stream",
     "text": [
      "🔹 GENDER Unique Values: [1 0]\n",
      "🔹 SMOKING Unique Values: [1 0]\n",
      "🔹 EXPOSURE_TO_POLLUTION Unique Values: [1 0]\n",
      "🔹 LONG_TERM_ILLNESS Unique Values: [0 1]\n",
      "🔹 FAMILY_HISTORY Unique Values: [0 1]\n",
      "🔹 SMOKING_FAMILY_HISTORY Unique Values: [0 1]\n",
      "🔹 ALCOHOL_CONSUMPTION Unique Values: [1 0]\n"
     ]
    }
   ],
   "source": [
    "\n",
    "\n",
    "# Remove rows with missing values\n",
    "df = df.dropna()\n",
    "\n",
    "# Convert 'PULMONARY_DISEASE' column to integer (No → 0, Yes → 1)\n",
    "if 'PULMONARY_DISEASE' in df.columns:\n",
    "    df['PULMONARY_DISEASE'] = df['PULMONARY_DISEASE'].map({'No': 0, 'Yes': 1, 'YES': 1, 'NO': 0}).fillna(0).astype(int)\n",
    "\n",
    "# ✅ Check if encoding is needed\n",
    "categorical_cols = ['GENDER', 'SMOKING', 'EXPOSURE_TO_POLLUTION', 'LONG_TERM_ILLNESS', \n",
    "                    'FAMILY_HISTORY', 'SMOKING_FAMILY_HISTORY', 'ALCOHOL_CONSUMPTION']\n",
    "\n",
    "for col in categorical_cols:\n",
    "    print(f\"🔹 {col} Unique Values: {df[col].unique()}\")  # Check if encoding is necessary\n",
    "\n",
    "# 🚀 No encoding needed if all values are already numeric!\n"
   ]
  },
  {
   "cell_type": "code",
   "execution_count": 469,
   "metadata": {},
   "outputs": [
    {
     "name": "stdout",
     "output_type": "stream",
     "text": [
      "Training set size: (4000, 16), Testing set size: (1000, 16)\n",
      "Scaled Features Sample:\n",
      "           AGE  OXYGEN_SATURATION  ENERGY_LEVEL  STRESS_IMMUNE\n",
      "1646  0.426826          -0.144945     -0.602346       1.926506\n",
      "2041 -1.355726          -0.133908     -0.010986       1.926506\n",
      "2842 -1.737701          -1.697252     -2.245686       1.926506\n",
      "2198 -1.674039           0.988952     -1.804056       1.926506\n",
      "644  -0.273462          -0.397527      0.561760      -0.519074\n"
     ]
    }
   ],
   "source": [
    "# ✅ Select features (excluding 'PULMONARY_DISEASE' as target and 'GENDER' to remove bias)\n",
    "X = df.drop(columns=['PULMONARY_DISEASE', 'GENDER'])\n",
    "y = df['PULMONARY_DISEASE']\n",
    "\n",
    "# ✅ Split dataset into training and testing sets (80%-20%) with stratification\n",
    "X_train, X_test, y_train, y_test = train_test_split(\n",
    "    X, y, test_size=0.2, random_state=42, stratify=y\n",
    ")\n",
    "\n",
    "# ✅ Define numerical columns to scale\n",
    "numerical_cols = ['AGE', 'OXYGEN_SATURATION', 'ENERGY_LEVEL', 'STRESS_IMMUNE']\n",
    "\n",
    "# ✅ Apply StandardScaler only to numerical features\n",
    "scaler = StandardScaler()\n",
    "\n",
    "X_train[numerical_cols] = scaler.fit_transform(X_train[numerical_cols])\n",
    "X_test[numerical_cols] = scaler.transform(X_test[numerical_cols])\n",
    "\n",
    "# ✅ Save the scaler for future use in predictions\n",
    "joblib.dump(scaler, '../Assets/Models/scaler.pkl')\n",
    "\n",
    "# ✅ Display summary to verify changes\n",
    "print(f\"Training set size: {X_train.shape}, Testing set size: {X_test.shape}\")\n",
    "print(f\"Scaled Features Sample:\\n{X_train[numerical_cols].head()}\")\n"
   ]
  },
  {
   "cell_type": "code",
   "execution_count": 470,
   "metadata": {},
   "outputs": [
    {
     "name": "stdout",
     "output_type": "stream",
     "text": [
      "🔹 Training Logistic Regression...\n",
      "🔹 Training Random Forest...\n",
      "🔹 Training SVM...\n",
      "🔹 Training XGBoost...\n",
      "✅ Logistic Regression model saved at: ../Assets/Models/logistic_regression.pkl\n",
      "✅ Random Forest model saved at: ../Assets/Models/random_forest.pkl\n",
      "✅ SVM model saved at: ../Assets/Models/svm_model.pkl\n",
      "✅ XGBoost model saved at: ../Assets/Models/xgboost_model.pkl\n",
      "\n",
      "🚀 All models trained and saved successfully!\n"
     ]
    }
   ],
   "source": [
    "# ✅ Define models with optimized hyperparameters\n",
    "models = {\n",
    "    \"Logistic Regression\": LogisticRegression(max_iter=500),\n",
    "    \"Random Forest\": RandomForestClassifier(n_estimators=200, random_state=42),\n",
    "    \"SVM\": SVC(kernel='linear', probability=True),\n",
    "    \"XGBoost\": XGBClassifier(eval_metric='logloss', verbosity=1)\n",
    "}\n",
    "\n",
    "# ✅ Train models\n",
    "trained_models = {}\n",
    "for name, model in models.items():\n",
    "    print(f\"🔹 Training {name}...\")\n",
    "    model.fit(X_train, y_train)  # Using improved variable names\n",
    "    trained_models[name] = model\n",
    "\n",
    "# ✅ Save all trained models\n",
    "model_paths = {\n",
    "    \"Logistic Regression\": \"../Assets/Models/logistic_regression.pkl\",\n",
    "    \"Random Forest\": \"../Assets/Models/random_forest.pkl\",\n",
    "    \"SVM\": \"../Assets/Models/svm_model.pkl\",\n",
    "    \"XGBoost\": \"../Assets/Models/xgboost_model.pkl\"\n",
    "}\n",
    "\n",
    "for name, path in model_paths.items():\n",
    "    joblib.dump(trained_models[name], path)\n",
    "    print(f\"✅ {name} model saved at: {path}\")\n",
    "\n",
    "# ✅ Confirmation message\n",
    "print(\"\\n🚀 All models trained and saved successfully!\")"
   ]
  },
  {
   "cell_type": "code",
   "execution_count": 471,
   "metadata": {},
   "outputs": [
    {
     "name": "stdout",
     "output_type": "stream",
     "text": [
      "\n",
      "📌 Model Performance Evaluation:\n",
      "\n",
      "🔹 Logistic Regression Performance:\n",
      "✅ Accuracy: 0.8880\n",
      "              precision    recall  f1-score   support\n",
      "\n",
      "           0       0.92      0.89      0.90       593\n",
      "           1       0.85      0.88      0.86       407\n",
      "\n",
      "    accuracy                           0.89      1000\n",
      "   macro avg       0.88      0.89      0.88      1000\n",
      "weighted avg       0.89      0.89      0.89      1000\n",
      "\n",
      "📊 AUC Score: 0.9261\n",
      "\n",
      "🔹 Random Forest Performance:\n",
      "✅ Accuracy: 0.9060\n",
      "              precision    recall  f1-score   support\n",
      "\n",
      "           0       0.92      0.93      0.92       593\n",
      "           1       0.89      0.88      0.88       407\n",
      "\n",
      "    accuracy                           0.91      1000\n",
      "   macro avg       0.90      0.90      0.90      1000\n",
      "weighted avg       0.91      0.91      0.91      1000\n",
      "\n",
      "📊 AUC Score: 0.9174\n",
      "\n",
      "🔹 SVM Performance:\n",
      "✅ Accuracy: 0.8780\n",
      "              precision    recall  f1-score   support\n",
      "\n",
      "           0       0.91      0.88      0.90       593\n",
      "           1       0.84      0.87      0.85       407\n",
      "\n",
      "    accuracy                           0.88      1000\n",
      "   macro avg       0.87      0.88      0.87      1000\n",
      "weighted avg       0.88      0.88      0.88      1000\n",
      "\n",
      "📊 AUC Score: 0.9223\n",
      "\n",
      "🔹 XGBoost Performance:\n",
      "✅ Accuracy: 0.8900\n",
      "              precision    recall  f1-score   support\n",
      "\n",
      "           0       0.90      0.91      0.91       593\n",
      "           1       0.87      0.86      0.86       407\n",
      "\n",
      "    accuracy                           0.89      1000\n",
      "   macro avg       0.89      0.89      0.89      1000\n",
      "weighted avg       0.89      0.89      0.89      1000\n",
      "\n",
      "📊 AUC Score: 0.9113\n",
      "\n"
     ]
    },
    {
     "data": {
      "image/png": "[encoded data removed]",
      "text/plain": [
       "<Figure size 800x600 with 1 Axes>"
      ]
     },
     "metadata": {},
     "output_type": "display_data"
    },
    {
     "name": "stdout",
     "output_type": "stream",
     "text": [
      "🏆 Best Model: Logistic Regression with AUC = 0.9261\n",
      "\n"
     ]
    }
   ],
   "source": [
    "# ✅ Define models dictionary\n",
    "models = {\n",
    "    \"Logistic Regression\": log_model,\n",
    "    \"Random Forest\": rf_model,\n",
    "    \"SVM\": svm_model,\n",
    "    \"XGBoost\": xgb_model\n",
    "}\n",
    "\n",
    "# ✅ Evaluate all models\n",
    "best_model = None\n",
    "best_auc = 0\n",
    "\n",
    "print(\"\\n📌 Model Performance Evaluation:\\n\")\n",
    "for name, model in models.items():\n",
    "    # Make predictions\n",
    "    y_pred = model.predict(test_features)\n",
    "\n",
    "    # Print evaluation metrics\n",
    "    print(f\"🔹 {name} Performance:\")\n",
    "    print(f\"✅ Accuracy: {accuracy_score(test_target, y_pred):.4f}\")\n",
    "    print(classification_report(test_target, y_pred))\n",
    "\n",
    "    # Calculate AUC (if model supports probability prediction)\n",
    "    if hasattr(model, \"predict_proba\"):\n",
    "        y_prob = model.predict_proba(test_features)[:, 1]\n",
    "        fpr, tpr, _ = roc_curve(test_target, y_prob)\n",
    "        roc_auc = auc(fpr, tpr)\n",
    "\n",
    "        print(f\"📊 AUC Score: {roc_auc:.4f}\\n\")\n",
    "\n",
    "        # Track the best model based on AUC\n",
    "        if roc_auc > best_auc:\n",
    "            best_auc = roc_auc\n",
    "            best_model = (name, model, fpr, tpr, roc_auc)\n",
    "\n",
    "# ✅ ROC Curve for the Best Model\n",
    "if best_model:\n",
    "    name, model, fpr_best, tpr_best, best_auc = best_model\n",
    "\n",
    "    plt.figure(figsize=(8, 6))\n",
    "    plt.plot(fpr_best, tpr_best, label=f'{name} (AUC = {best_auc:.2f})', color='blue')\n",
    "    plt.plot([0, 1], [0, 1], linestyle='--', color='grey')\n",
    "    plt.xlabel('False Positive Rate')\n",
    "    plt.ylabel('True Positive Rate')\n",
    "    plt.title(f'ROC Curve - Best Model: {name}')\n",
    "    plt.legend()\n",
    "    plt.show()\n",
    "\n",
    "    print(f\"🏆 Best Model: {name} with AUC = {best_auc:.4f}\\n\")"
   ]
  }
 ],
 "metadata": {
  "kernelspec": {
   "display_name": "Python 3",
   "language": "python",
   "name": "python3"
  },
  "language_info": {
   "codemirror_mode": {
    "name": "ipython",
    "version": 3
   },
   "file_extension": ".py",
   "mimetype": "text/x-python",
   "name": "python",
   "nbconvert_exporter": "python",
   "pygments_lexer": "ipython3",
   "version": "3.12.3"
  }
 },
 "nbformat": 4,
 "nbformat_minor": 2
}

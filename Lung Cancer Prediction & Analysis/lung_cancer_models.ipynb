{
 "cells": [
  {
   "cell_type": "code",
   "execution_count": 425,
   "metadata": {},
   "outputs": [],
   "source": [
    "import pandas as pd \n",
    "import numpy as np\n",
    "import seaborn as sns\n",
    "import matplotlib.pyplot as plt\n",
    "\n",
    "from sklearn.model_selection import train_test_split\n",
    "from sklearn.preprocessing import StandardScaler, LabelEncoder, MinMaxScaler\n",
    "from sklearn.ensemble import RandomForestClassifier\n",
    "from sklearn.linear_model import LogisticRegression\n",
    "from sklearn.svm import SVC\n",
    "from xgboost import XGBClassifier\n",
    "import joblib\n",
    "from sklearn.metrics import accuracy_score, classification_report, confusion_matrix, roc_auc_score, roc_curve, auc\n"
   ]
  },
  {
   "cell_type": "code",
   "execution_count": 426,
   "metadata": {},
   "outputs": [],
   "source": [
    "# Load dataset\n",
    "df = pd.read_csv('../Assets/Data/Lung Cancer Dataset.csv')\n",
    "\n"
   ]
  },
  {
   "cell_type": "code",
   "execution_count": 427,
   "metadata": {},
   "outputs": [
    {
     "name": "stdout",
     "output_type": "stream",
     "text": [
      "🔹 GENDER Unique Values: [1 0]\n",
      "🔹 SMOKING Unique Values: [1 0]\n",
      "🔹 EXPOSURE_TO_POLLUTION Unique Values: [1 0]\n",
      "🔹 LONG_TERM_ILLNESS Unique Values: [0 1]\n",
      "🔹 FAMILY_HISTORY Unique Values: [0 1]\n",
      "🔹 SMOKING_FAMILY_HISTORY Unique Values: [0 1]\n",
      "🔹 ALCOHOL_CONSUMPTION Unique Values: [1 0]\n"
     ]
    }
   ],
   "source": [
    "\n",
    "\n",
    "# Remove rows with missing values\n",
    "df = df.dropna()\n",
    "\n",
    "# Convert 'PULMONARY_DISEASE' column to integer (No → 0, Yes → 1)\n",
    "if 'PULMONARY_DISEASE' in df.columns:\n",
    "    df['PULMONARY_DISEASE'] = df['PULMONARY_DISEASE'].map({'No': 0, 'Yes': 1, 'YES': 1, 'NO': 0}).fillna(0).astype(int)\n",
    "\n",
    "# ✅ Check if encoding is needed\n",
    "categorical_cols = ['GENDER', 'SMOKING', 'EXPOSURE_TO_POLLUTION', 'LONG_TERM_ILLNESS', \n",
    "                    'FAMILY_HISTORY', 'SMOKING_FAMILY_HISTORY', 'ALCOHOL_CONSUMPTION']\n",
    "\n",
    "for col in categorical_cols:\n",
    "    print(f\"🔹 {col} Unique Values: {df[col].unique()}\")  # Check if encoding is necessary\n",
    "\n",
    "# 🚀 No encoding needed if all values are already numeric!\n"
   ]
  },
  {
   "cell_type": "code",
   "execution_count": 428,
   "metadata": {},
   "outputs": [
    {
     "data": {
      "text/plain": [
       "['scaler.pkl']"
      ]
     },
     "execution_count": 428,
     "metadata": {},
     "output_type": "execute_result"
    }
   ],
   "source": [
    "# Select features and target variable\n",
    "features = df.drop(columns=['PULMONARY_DISEASE', 'GENDER'])\n",
    "target = df['PULMONARY_DISEASE']\n",
    "\n",
    "# Split dataset into training and testing sets (80%-20%)\n",
    "train_features, test_features, train_target, test_target = train_test_split(features, target, test_size=0.2, random_state=42, stratify=target)\n",
    "\n",
    "# Define numerical columns to scale\n",
    "numerical_cols = ['AGE', 'OXYGEN_SATURATION', 'ENERGY_LEVEL', 'STRESS_IMMUNE']\n",
    "\n",
    "# Scale numerical features using StandardScaler\n",
    "scaler = StandardScaler()\n",
    "train_features[numerical_cols] = scaler.fit_transform(train_features[numerical_cols])\n",
    "test_features[numerical_cols] = scaler.transform(test_features[numerical_cols])\n",
    "\n",
    "# Save the scaler for prediction use\n",
    "joblib.dump(scaler, 'scaler.pkl')"
   ]
  },
  {
   "cell_type": "code",
   "execution_count": 429,
   "metadata": {},
   "outputs": [
    {
     "data": {
      "text/plain": [
       "['xgboost_model.pkl']"
      ]
     },
     "execution_count": 429,
     "metadata": {},
     "output_type": "execute_result"
    }
   ],
   "source": [
    "# Train Logistic Regression Model\n",
    "log_model = LogisticRegression()\n",
    "log_model.fit(train_features, train_target)\n",
    "\n",
    "# Train Random Forest Model\n",
    "rf_model = RandomForestClassifier(n_estimators=100, random_state=42)\n",
    "rf_model.fit(train_features, train_target)\n",
    "\n",
    "# Train Support Vector Machine (SVM)\n",
    "svm_model = SVC(kernel='linear', probability=True)\n",
    "svm_model.fit(train_features, train_target)\n",
    "\n",
    "# Train XGBoost Model\n",
    "xgb_model = XGBClassifier(eval_metric='logloss', verbosity=1)\n",
    "xgb_model.fit(train_features, train_target)\n",
    "\n",
    "\n",
    "\n",
    "\n",
    "# ✅ Save All Models\n",
    "joblib.dump(log_model, 'logistic_regression.pkl')\n",
    "joblib.dump(rf_model, 'random_forest.pkl')\n",
    "joblib.dump(svm_model, 'svm_model.pkl')\n",
    "joblib.dump(xgb_model, 'xgboost_model.pkl')\n"
   ]
  },
  {
   "cell_type": "code",
   "execution_count": 430,
   "metadata": {},
   "outputs": [
    {
     "name": "stdout",
     "output_type": "stream",
     "text": [
      "📌 Logistic Regression Performance:\n",
      "✅ Accuracy: 0.888\n",
      "              precision    recall  f1-score   support\n",
      "\n",
      "           0       0.92      0.89      0.90       593\n",
      "           1       0.85      0.88      0.86       407\n",
      "\n",
      "    accuracy                           0.89      1000\n",
      "   macro avg       0.88      0.89      0.88      1000\n",
      "weighted avg       0.89      0.89      0.89      1000\n",
      "\n",
      "📌 Random Forest Performance:\n",
      "✅ Accuracy: 0.906\n",
      "              precision    recall  f1-score   support\n",
      "\n",
      "           0       0.92      0.93      0.92       593\n",
      "           1       0.89      0.88      0.88       407\n",
      "\n",
      "    accuracy                           0.91      1000\n",
      "   macro avg       0.90      0.90      0.90      1000\n",
      "weighted avg       0.91      0.91      0.91      1000\n",
      "\n",
      "📌 SVM Performance:\n",
      "✅ Accuracy: 0.878\n",
      "              precision    recall  f1-score   support\n",
      "\n",
      "           0       0.91      0.88      0.90       593\n",
      "           1       0.84      0.87      0.85       407\n",
      "\n",
      "    accuracy                           0.88      1000\n",
      "   macro avg       0.87      0.88      0.87      1000\n",
      "weighted avg       0.88      0.88      0.88      1000\n",
      "\n",
      "📌 XGBoost Performance:\n",
      "✅ Accuracy: 0.89\n",
      "              precision    recall  f1-score   support\n",
      "\n",
      "           0       0.90      0.91      0.91       593\n",
      "           1       0.87      0.86      0.86       407\n",
      "\n",
      "    accuracy                           0.89      1000\n",
      "   macro avg       0.89      0.89      0.89      1000\n",
      "weighted avg       0.89      0.89      0.89      1000\n",
      "\n"
     ]
    },
    {
     "data": {
      "image/png": "[encoded data removed]",
      "text/plain": [
       "<Figure size 800x600 with 1 Axes>"
      ]
     },
     "metadata": {},
     "output_type": "display_data"
    }
   ],
   "source": [
    "models = {'Logistic Regression': log_model, 'Random Forest': rf_model, \n",
    "          'SVM': svm_model, 'XGBoost': xgb_model}\n",
    "\n",
    "for name, model in models.items():\n",
    "    y_pred = model.predict(test_features)\n",
    "    print(f\"📌 {name} Performance:\")\n",
    "    print(\"✅ Accuracy:\", accuracy_score(test_target, y_pred))\n",
    "    print(classification_report(test_target, y_pred))\n",
    "\n",
    "# ROC Curve for Best Model (Random Forest)\n",
    "y_prob_rf = rf_model.predict_proba(test_features)[:, 1]\n",
    "fpr_rf, tpr_rf, _ = roc_curve(test_target, y_prob_rf)\n",
    "roc_auc_rf = auc(fpr_rf, tpr_rf)\n",
    "\n",
    "plt.figure(figsize=(8, 6))\n",
    "plt.plot(fpr_rf, tpr_rf, label=f'Random Forest (AUC = {roc_auc_rf:.2f})', color='blue')\n",
    "plt.plot([0, 1], [0, 1], linestyle='--', color='grey')\n",
    "plt.xlabel('False Positive Rate')\n",
    "plt.ylabel('True Positive Rate')\n",
    "plt.title('ROC Curve')\n",
    "plt.legend()\n",
    "plt.show()\n"
   ]
  },
  {
   "cell_type": "code",
   "execution_count": 431,
   "metadata": {},
   "outputs": [
    {
     "name": "stdout",
     "output_type": "stream",
     "text": [
      "🔹 GENDER Unique Values: [1 0]\n",
      "🔹 SMOKING Unique Values: [1 0]\n",
      "🔹 EXPOSURE_TO_POLLUTION Unique Values: [1 0]\n",
      "🔹 LONG_TERM_ILLNESS Unique Values: [0 1]\n",
      "🔹 FAMILY_HISTORY Unique Values: [0 1]\n",
      "🔹 SMOKING_FAMILY_HISTORY Unique Values: [0 1]\n",
      "🔹 ALCOHOL_CONSUMPTION Unique Values: [1 0]\n"
     ]
    }
   ],
   "source": [
    "\n",
    "\n",
    "# Remove rows with missing values\n",
    "df = df.dropna()\n",
    "\n",
    "# Convert 'PULMONARY_DISEASE' column to integer (No → 0, Yes → 1)\n",
    "if 'PULMONARY_DISEASE' in df.columns:\n",
    "    df['PULMONARY_DISEASE'] = df['PULMONARY_DISEASE'].map({'No': 0, 'Yes': 1, 'YES': 1, 'NO': 0}).fillna(0).astype(int)\n",
    "\n",
    "# ✅ Check if encoding is needed\n",
    "categorical_cols = ['GENDER', 'SMOKING', 'EXPOSURE_TO_POLLUTION', 'LONG_TERM_ILLNESS', \n",
    "                    'FAMILY_HISTORY', 'SMOKING_FAMILY_HISTORY', 'ALCOHOL_CONSUMPTION']\n",
    "\n",
    "for col in categorical_cols:\n",
    "    print(f\"🔹 {col} Unique Values: {df[col].unique()}\")  # Check if encoding is necessary\n",
    "\n",
    "# 🚀 No encoding needed if all values are already numeric!\n"
   ]
  }
 ],
 "metadata": {
  "kernelspec": {
   "display_name": "Python 3",
   "language": "python",
   "name": "python3"
  },
  "language_info": {
   "codemirror_mode": {
    "name": "ipython",
    "version": 3
   },
   "file_extension": ".py",
   "mimetype": "text/x-python",
   "name": "python",
   "nbconvert_exporter": "python",
   "pygments_lexer": "ipython3",
   "version": "3.12.3"
  }
 },
 "nbformat": 4,
 "nbformat_minor": 2
}

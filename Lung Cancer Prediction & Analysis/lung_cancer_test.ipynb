{
 "cells": [
  {
   "cell_type": "code",
   "execution_count": null,
   "metadata": {},
   "outputs": [
    {
     "name": "stdout",
     "output_type": "stream",
     "text": [
      "⚠ Warning: Unseen category 'Male' in column 'GENDER'. Assigning default value -1.\n"
     ]
    },
    {
     "ename": "NameError",
     "evalue": "name 'num_cols' is not defined",
     "output_type": "error",
     "traceback": [
      "\u001b[1;31m---------------------------------------------------------------------------\u001b[0m",
      "\u001b[1;31mNameError\u001b[0m                                 Traceback (most recent call last)",
      "Cell \u001b[1;32mIn[6], line 46\u001b[0m\n\u001b[0;32m     43\u001b[0m             new_df[col] \u001b[38;5;241m=\u001b[39m \u001b[38;5;241m-\u001b[39m\u001b[38;5;241m1\u001b[39m \u001b[38;5;66;03m# Assign a default value for unknown categories\u001b[39;00m\n\u001b[0;32m     45\u001b[0m \u001b[38;5;66;03m# Scale numerical features\u001b[39;00m\n\u001b[1;32m---> 46\u001b[0m new_df[num_cols] \u001b[38;5;241m=\u001b[39m scaler\u001b[38;5;241m.\u001b[39mtransform(new_df[\u001b[43mnum_cols\u001b[49m])\n\u001b[0;32m     48\u001b[0m \u001b[38;5;66;03m# Predict using the trained model\u001b[39;00m\n\u001b[0;32m     49\u001b[0m prediction \u001b[38;5;241m=\u001b[39m rf_model\u001b[38;5;241m.\u001b[39mpredict(new_df)\n",
      "\u001b[1;31mNameError\u001b[0m: name 'num_cols' is not defined"
     ]
    }
   ],
   "source": [
    "# Load trained model and preprocessing tools\n",
    "rf_model = joblib.load('random_forest.pkl')\n",
    "scaler = joblib.load('scaler.pkl')\n",
    "label_encoders = joblib.load('label_encoders.pkl')\n",
    "\n",
    "# New input data\n",
    "new_data = {\n",
    "    'AGE': 55,\n",
    "    'SMOKING': 0,\n",
    "    'FINGER_DISCOLORATION': 1,\n",
    "    'MENTAL_STRESS': 1,\n",
    "    'EXPOSURE_TO_POLLUTION': 0,\n",
    "    'LONG_TERM_ILLNESS': 0,\n",
    "    'ENERGY_LEVEL': 3,\n",
    "    'IMMUNE_WEAKNESS': 0,\n",
    "    'BREATHING_ISSUE': 0,\n",
    "    'ALCOHOL_CONSUMPTION': 1,\n",
    "    'THROAT_DISCOMFORT': 0,\n",
    "    'OXYGEN_SATURATION': 42,\n",
    "    'CHEST_TIGHTNESS': 1,\n",
    "    'FAMILY_HISTORY': 1,\n",
    "    'SMOKING_FAMILY_HISTORY': 0,\n",
    "    'STRESS_IMMUNE': 2\n",
    "}\n",
    "\n",
    "# Convert new data into DataFrame\n",
    "new_df = pd.DataFrame([new_data])\n",
    "\n",
    "# Encode categorical variables\n",
    "for col in categorical_cols:\n",
    "    if col in label_encoders:\n",
    "        try:\n",
    "            new_df[col] = label_encoders[col].transform([new_df[col][0]])  # Transform single value\n",
    "        except ValueError:\n",
    "            print(f\"⚠ Warning: Unseen category '{new_df[col][0]}' in column '{col}'. Assigning default value -1.\")\n",
    "            new_df[col] = -1 # Assign a default value for unknown categories\n",
    "\n",
    "# Scale numerical features\n",
    "new_df[numerical_cols] = scaler.transform(new_df[numerical_cols])\n",
    "\n",
    "# Predict using the trained model\n",
    "prediction = rf_model.predict(new_df)\n",
    "probability = rf_model.predict_proba(new_df)[:, 1]\n",
    "\n",
    "# Print prediction result\n",
    "print(\"🩺 Predicted Pulmonary Disease Status:\", \"YES\" if prediction[0] == 1 else \"NO\")\n",
    "print(\"🩺 Prediction Confidence:\", f\"{probability[0]*100:.2f}%\")\n"
   ]
  }
 ],
 "metadata": {
  "kernelspec": {
   "display_name": "Python 3",
   "language": "python",
   "name": "python3"
  },
  "language_info": {
   "codemirror_mode": {
    "name": "ipython",
    "version": 3
   },
   "file_extension": ".py",
   "mimetype": "text/x-python",
   "name": "python",
   "nbconvert_exporter": "python",
   "pygments_lexer": "ipython3",
   "version": "3.12.3"
  }
 },
 "nbformat": 4,
 "nbformat_minor": 2
}
